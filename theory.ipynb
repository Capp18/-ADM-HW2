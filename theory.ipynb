{
 "cells": [
  {
   "cell_type": "markdown",
   "metadata": {},
   "source": [
    "1) How much running time does it take to execute splitSwap(a, 0, n)? (We want a Big O analysis.) \n",
    "\n",
    "      O(1) if n=1\n",
    "\n",
    "T(n) =\n",
    "      \n",
    "      2T(N/2) + n/2 #because the splitSwap function is called 2 times on n/2\n",
    "\n",
    "The loop is stopped when we have n=1, consequently, since we have i iterations, we must find the solution to the equation: n/2^i= 1.\n",
    "The solution is i = log(base2) n. For each iteration the splitswap function occupies n / 2 of the previous input, so \n",
    "since we have log n iterations, the T(n) (execution time) of splitSwap (a, 0, n) is O((n/2)log(n)). \n",
    "\n",
    "------------------------------------------------------------------------------------------------------------------------------------------\n",
    "\n",
    "2) What does this algorithm do? Is it optimal? Describe the mechanism of the algorithm in details, we do not want to know only its final \n",
    "result.\n",
    "\n",
    "1)The algorithm accepts an array a, an index i, and a length n. splitSwap(a, l, n/2) starts from i and arrives to i+n/2 and creates A1,\n",
    "wich has length equal to n/2. \n",
    "2)splitSwap(a, l+ n /2, n/2) starts from i+n/2 and arrives to n and creates A2, that is long n/2 too. \n",
    "3)The function changes the position of elements of A1 with the the elements of A2. \n",
    "\n",
    "- The solution algorithm of a problem P is optimal when the algorithm has complexity O (f (n)) because it means that less than f (n) \n",
    "you can never do. This algorithm is not optimal because it could be executed with O(n). \n"
   ]
  }
 ],
 "metadata": {
  "kernelspec": {
   "display_name": "Python 3",
   "language": "python",
   "name": "python3"
  },
  "language_info": {
   "codemirror_mode": {
    "name": "ipython",
    "version": 3
   },
   "file_extension": ".py",
   "mimetype": "text/x-python",
   "name": "python",
   "nbconvert_exporter": "python",
   "pygments_lexer": "ipython3",
   "version": "3.7.3"
  }
 },
 "nbformat": 4,
 "nbformat_minor": 2
}
